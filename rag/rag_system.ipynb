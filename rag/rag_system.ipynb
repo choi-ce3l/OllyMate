{
 "cells": [
  {
   "cell_type": "code",
   "execution_count": 1,
   "metadata": {},
   "outputs": [
    {
     "name": "stdout",
     "output_type": "stream",
     "text": [
      "Hello, World\n"
     ]
    }
   ],
   "source": [
    "print(\"Hello, World\")"
   ]
  },
  {
   "cell_type": "code",
   "execution_count": 2,
   "metadata": {},
   "outputs": [
    {
     "name": "stdout",
     "output_type": "stream",
     "text": [
      "         goodsNo                                          goodsName category  \\\n",
      "0  A000000188933  [11월 올영픽/토너 250ml증정]바이오더마 하이드라비오 토너 500ml 기획(+...    스킨/토너   \n",
      "1  A000000188933  [11월 올영픽/토너 250ml증정]바이오더마 하이드라비오 토너 500ml 기획(+...    스킨/토너   \n",
      "2  A000000188933  [11월 올영픽/토너 250ml증정]바이오더마 하이드라비오 토너 500ml 기획(+...    스킨/토너   \n",
      "3  A000000188933  [11월 올영픽/토너 250ml증정]바이오더마 하이드라비오 토너 500ml 기획(+...    스킨/토너   \n",
      "4  A000000188933  [11월 올영픽/토너 250ml증정]바이오더마 하이드라비오 토너 500ml 기획(+...    스킨/토너   \n",
      "\n",
      "    price pricerange                                      purchase_link  \\\n",
      "0  26,900        2-3  https://www.oliveyoung.co.kr/store/goods/getGo...   \n",
      "1  26,900        2-3  https://www.oliveyoung.co.kr/store/goods/getGo...   \n",
      "2  26,900        2-3  https://www.oliveyoung.co.kr/store/goods/getGo...   \n",
      "3  26,900        2-3  https://www.oliveyoung.co.kr/store/goods/getGo...   \n",
      "4  26,900        2-3  https://www.oliveyoung.co.kr/store/goods/getGo...   \n",
      "\n",
      "                                          image_link        memberNo skintype  \\\n",
      "0  https://image.oliveyoung.co.kr/cfimages/cf-goo...  M0000000866979  ['민감성']   \n",
      "1  https://image.oliveyoung.co.kr/cfimages/cf-goo...  M0000004172485  ['복합성']   \n",
      "2  https://image.oliveyoung.co.kr/cfimages/cf-goo...  M0000004172485  ['복합성']   \n",
      "3  https://image.oliveyoung.co.kr/cfimages/cf-goo...  M0000010984024      NaN   \n",
      "4  https://image.oliveyoung.co.kr/cfimages/cf-goo...  M0000000781824   ['건성']   \n",
      "\n",
      "  skinton                              skinconcern  \\\n",
      "0  ['쿨톤']                     ['모공', '민감성', '트러블']   \n",
      "1  ['쿨톤']  ['각질', '모공', '민감성', '블랙헤드', '잡티', '홍조']   \n",
      "2  ['쿨톤']  ['각질', '모공', '민감성', '블랙헤드', '잡티', '홍조']   \n",
      "3     NaN                                      NaN   \n",
      "4  ['웜톤']                             ['미백', '주름']   \n",
      "\n",
      "                                              review  rating        date  \\\n",
      "0  지성피부라 강경 닦토파입니다.항상 세일 품목인 대용량 토너를 주로 사용해요. 이번 ...      10  2024.11.06   \n",
      "1  할인하면 무조건 쟁여두는 속건조 잡아주는 아이템. 저는 요거 미스트 통에 뿌려서 샤...      10  2024.11.09   \n",
      "2  쟁여쟁여 쟁여템! ㅋㅋㅋㅋ 샤워하고 나서 바로 뿌리는 미스트에요 ㅎㅎ 비스트로 뿌리...      10  2024.11.09   \n",
      "3  한번 써보고 싶었는데 올영에서 블랙프라이데이 행사로<br/>기획세트 출시되어 구매 ...      10  2024.11.06   \n",
      "4  자극없이 순하고 정말 속건조까지 잡아주는듯한 토너예요 한통사용후 너무 좋아 재구입했...      10  2024.11.05   \n",
      "\n",
      "       function formulation  \n",
      "0  ['수분', '진정']  ['가벼운 제형']  \n",
      "1  ['수분', '진정']  ['가벼운 제형']  \n",
      "2  ['수분', '진정']  ['가벼운 제형']  \n",
      "3  ['수분', '진정']  ['가벼운 제형']  \n",
      "4  ['수분', '진정']  ['가벼운 제형']  \n"
     ]
    }
   ],
   "source": [
    "import pandas as pd\n",
    "\n",
    "# CSV 파일 불러오기\n",
    "skin_toner_df = pd.read_csv('스킨토너.csv')\n",
    "skin_hwae_df = pd.read_csv('스킨,토너_화해.csv')\n",
    "\n",
    "# pricerange 계산 함수 정의\n",
    "def calculate_pricerange(price):\n",
    "    # 쉼표 제거하고 정수형으로 변환\n",
    "    price = int(price.replace(',', ''))\n",
    "    if price <= 20000:\n",
    "        return \"2만원이하\"\n",
    "    elif 20000 < price <= 30000:\n",
    "        return \"2-3\"\n",
    "    elif 30000 < price <= 50000:\n",
    "        return \"3-5\"\n",
    "    else:\n",
    "        return \"5만원이상\"\n",
    "\n",
    "# 'df' 생성 및 칼럼 매핑 설정\n",
    "df = pd.DataFrame()\n",
    "df['goodsNo'] = skin_toner_df['goodsNo']\n",
    "df['goodsName'] = skin_toner_df['product_name']\n",
    "df['category'] = skin_toner_df['category']\n",
    "df['price'] = skin_toner_df['price']\n",
    "df['pricerange'] = df['price'].apply(calculate_pricerange)\n",
    "df['purchase_link'] = skin_toner_df['product_url']\n",
    "df['image_link'] = skin_toner_df['img_link']\n",
    "df['memberNo'] = skin_toner_df['memberNo']\n",
    "df['skintype'] = skin_toner_df['skintype']\n",
    "df['skinton'] = skin_toner_df['skinton']\n",
    "df['skinconcern'] = skin_toner_df['skinconcerns']\n",
    "df['review'] = skin_toner_df['gdasContent']\n",
    "df['rating'] = skin_toner_df['gdasValue']\n",
    "df['date'] = skin_toner_df['date']\n",
    "\n",
    "# 스킨,토너_화해.csv의 데이터를 매칭하여 삽입\n",
    "df = df.merge(skin_hwae_df[['product_name', 'function', 'formulation']],\n",
    "              left_on='goodsName', right_on='product_name', how='left')\n",
    "\n",
    "# 필요한 칼럼 이름 설정\n",
    "df = df.rename(columns={'function': 'function', 'formulation': 'formulation'})\n",
    "\n",
    "# 불필요한 'product_name' 칼럼 제거\n",
    "df = df.drop(columns=['product_name'])\n",
    "\n",
    "# 결과 확인\n",
    "print(df.head())\n"
   ]
  },
  {
   "cell_type": "code",
   "execution_count": 3,
   "metadata": {},
   "outputs": [],
   "source": [
    "df.to_csv('skintoner_heeae.csv')"
   ]
  },
  {
   "cell_type": "code",
   "execution_count": null,
   "metadata": {},
   "outputs": [],
   "source": [
    "df.shape()"
   ]
  },
  {
   "cell_type": "markdown",
   "metadata": {},
   "source": [
    "# RAG"
   ]
  },
  {
   "cell_type": "markdown",
   "metadata": {},
   "source": [
    "## 1. 문서 로드\n",
    "### 1.1 CSVLoader"
   ]
  },
  {
   "cell_type": "code",
   "execution_count": null,
   "metadata": {},
   "outputs": [
    {
     "name": "stdout",
     "output_type": "stream",
     "text": [
      "<class 'list'>\n",
      "165223\n"
     ]
    },
    {
     "data": {
      "text/plain": [
       "Document(metadata={'source': 'final.csv', 'row': 0}, page_content='rank: 0\\ngoodsName: 피지오겔 DMT 페이셜 로션\\ncategory: 로션\\nprice: 19900\\npurchase_link: https://www.oliveyoung.co.kr/store/goods/getGoodsDetail.do?goodsNo=A000000209436&dispCatNo=100000100010016&t_page=카테고리관&t_click=로션_전체__상품상세&t_number=2\\nimage_link: https://image.oliveyoung.co.kr/cfimages/cf-goods/uploads/images/thumbnails/550/10/0000/0020/A00000020943608ko.jpg?l=ko\\nmemberNo: M0000000772845\\nskintype: 건성\\nskinton: 쿨톤\\nskinconcerns: 민감성 아토피 주름\\ngoodsNo: A000000209436\\nreview: 지성분들은 크림말고 로션쓰세요! 보습감은 충붕한데 화장 안밀려서 좋아요\\nrating: 10\\ndate: 2024.10.28\\nfunction: 수분 진정\\nformulation: 가벼운 제형\\nprice_category: 2이하')"
      ]
     },
     "execution_count": 34,
     "metadata": {},
     "output_type": "execute_result"
    }
   ],
   "source": [
    "from langchain_community.document_loaders.csv_loader import CSVLoader\n",
    "\n",
    "loader = CSVLoader('final.csv', encoding=\"utf-8\")\n",
    "\n",
    "docs = loader.load()\n",
    "\n",
    "print(type(docs))\n",
    "print(len(docs))\n"
   ]
  },
  {
   "cell_type": "code",
   "execution_count": 38,
   "metadata": {},
   "outputs": [
    {
     "data": {
      "text/plain": [
       "{'source': 'final.csv', 'row': 1}"
      ]
     },
     "execution_count": 38,
     "metadata": {},
     "output_type": "execute_result"
    }
   ],
   "source": [
    "docs[1].metadata"
   ]
  },
  {
   "cell_type": "code",
   "execution_count": null,
   "metadata": {},
   "outputs": [
    {
     "name": "stdout",
     "output_type": "stream",
     "text": [
      "rank: 1\n",
      "goodsName: 피지오겔 DMT 페이셜 로션\n",
      "category: 로션\n",
      "price: 19900\n",
      "purchase_link: https://www.oliveyoung.co.kr/store/goods/getGoodsDetail.do?goodsNo=A000000209436&dispCatNo=100000100010016&t_page=카테고리관&t_click=로션_전체__상품상세&t_number=2\n",
      "image_link: https://image.oliveyoung.co.kr/cfimages/cf-goods/uploads/images/thumbnails/550/10/0000/0020/A00000020943608ko.jpg?l=ko\n",
      "memberNo: M0000012625454\n",
      "skintype: 지성\n",
      "skinton: 봄웜톤\n",
      "skinconcerns: 다크서클 민감성 블랙헤드 잡티 트러블\n",
      "goodsNo: A000000209436\n",
      "review: 수부지입니다. 포토카드 샘플 필요없고 그냥 가격만 싸게 해주십쇼. 토너 세럼 사용 후 수분을 가둬두는데 좋은 것 같습니다. 끈적임 없음\n",
      "rating: 8\n",
      "date: 2024.10.27\n",
      "function: 수분 진정\n",
      "formulation: 가벼운 제형\n",
      "price_category: 2이하\n"
     ]
    }
   ],
   "source": [
    "print(docs[1].page_content)"
   ]
  },
  {
   "cell_type": "code",
   "execution_count": 39,
   "metadata": {},
   "outputs": [
    {
     "name": "stdout",
     "output_type": "stream",
     "text": [
      "<class 'langchain_core.documents.base.Document'>\n"
     ]
    }
   ],
   "source": [
    "print(type(docs[1]))"
   ]
  },
  {
   "cell_type": "markdown",
   "metadata": {},
   "source": [
    "### 1.2.1 DataFrameLoader\n",
    "- csv -> html"
   ]
  },
  {
   "cell_type": "code",
   "execution_count": null,
   "metadata": {},
   "outputs": [],
   "source": [
    "import pandas as pd\n",
    "\n",
    "# csv 로드\n",
    "df = pd.read_csv('skintoner_heeae.csv')\n",
    "\n",
    "# DataFrame을 HTML로 변환\n",
    "html_output = df.to_html()\n",
    "\n",
    "# 결과 출력 (혹은 저장)\n",
    "print(type(html_output))\n",
    "print(html_output)"
   ]
  },
  {
   "cell_type": "markdown",
   "metadata": {},
   "source": [
    "### 1.2.2 DataFrameLoader\n",
    "-  csv -> json\n",
    "vscode가 멈추는 관계로 이건 사용 안함"
   ]
  },
  {
   "cell_type": "code",
   "execution_count": null,
   "metadata": {},
   "outputs": [],
   "source": [
    "# import pandas as pd\n",
    "# df = pd.read_csv('skintoner_heeae.csv')\n",
    "# json_output = df.to_json()\n",
    "# print(json_output)"
   ]
  },
  {
   "cell_type": "markdown",
   "metadata": {},
   "source": [
    "### 1.3 UpstageLayoutAnalysisLoader\n",
    "-> test.ipynb"
   ]
  },
  {
   "cell_type": "code",
   "execution_count": 1,
   "metadata": {},
   "outputs": [
    {
     "data": {
      "text/plain": [
       "True"
      ]
     },
     "execution_count": 1,
     "metadata": {},
     "output_type": "execute_result"
    }
   ],
   "source": [
    "from dotenv import load_dotenv\n",
    "load_dotenv()"
   ]
  },
  {
   "cell_type": "code",
   "execution_count": null,
   "metadata": {},
   "outputs": [],
   "source": [
    "from langchain_upstage import UpstageLayoutAnalysisLoader"
   ]
  },
  {
   "cell_type": "markdown",
   "metadata": {},
   "source": [
    "## 2. 문서 분할\n",
    "\n",
    "### 2.1. HTMLHeaderTextSplitter\n",
    "- 우리 데이터는 header이 없기 때문에 안 씀"
   ]
  },
  {
   "cell_type": "markdown",
   "metadata": {},
   "source": [
    "### 2.2. HTMLSectionSplitter"
   ]
  },
  {
   "cell_type": "code",
   "execution_count": null,
   "metadata": {},
   "outputs": [],
   "source": [
    "# 이렇게 하면 vs code 멈춤\n",
    "\n",
    "from langchain_text_splitters import HTMLSectionSplitter\n",
    "import traceback\n",
    "import pandas as pd\n",
    "\n",
    "# csv 로드\n",
    "df = pd.read_csv('output_chunk25000_1.csv')\n",
    "# DataFrame을 HTML로 변환\n",
    "html_output = df.to_html()\n",
    "\n",
    "headers_to_split_on = [(\"tr\")]\n",
    "html_splitter = HTMLSectionSplitter(headers_to_split_on)\n",
    "\n",
    "# Define the list to store the results or logs\n",
    "errors_log = []\n",
    "\n",
    "# Try to split the text and catch errors if any occur\n",
    "try:\n",
    "    # Attempt to split the HTML content\n",
    "    html_header_splits_3_1 = html_splitter.split_text(html_output)\n",
    "except KeyError as e:\n",
    "    # If a KeyError occurs, log the error type and the problematic HTML content\n",
    "    error_info = {\n",
    "        \"error_type\": str(type(e)),\n",
    "        \"error_message\": str(e),\n",
    "        \"html_data\": html_output  # Log the problematic HTML data\n",
    "    }\n",
    "    \n",
    "    # Append the error info to the errors log\n",
    "    errors_log.append(error_info)\n",
    "    \n",
    "    # Optionally, print the error for immediate feedback\n",
    "    print(f\"Error occurred: {e}\")\n",
    "    print(f\"Error details: {error_info}\")\n",
    "    \n",
    "    # Pass and continue execution\n",
    "    pass\n",
    "except Exception as e:\n",
    "    # Catch any other exceptions and log them\n",
    "    error_info = {\n",
    "        \"error_type\": str(type(e)),\n",
    "        \"error_message\": str(e),\n",
    "        \"html_data\": html_output  # Log the problematic HTML data\n",
    "    }\n",
    "    \n",
    "    # Append the error info to the errors log\n",
    "    errors_log.append(error_info)\n",
    "    \n",
    "    # Optionally, print the error for immediate feedback\n",
    "    print(f\"Unexpected error occurred: {e}\")\n",
    "    print(f\"Error details: {error_info}\")\n",
    "    \n",
    "    # Pass and continue execution\n",
    "    pass\n",
    "\n",
    "# After execution, you can review the `errors_log` to identify problematic HTML\n",
    "print(f\"Errors encountered during the process: {errors_log}\")"
   ]
  },
  {
   "cell_type": "code",
   "execution_count": 2,
   "metadata": {},
   "outputs": [],
   "source": [
    "from langchain_text_splitters import HTMLSectionSplitter\n",
    "import pandas as pd\n",
    "\n",
    "# csv 로드\n",
    "df = pd.read_csv('final.csv')\n",
    "# 데이터프레임의 첫 10행만 사용하여 HTML로 변환\n",
    "html_output = df.head(10).to_html()"
   ]
  },
  {
   "cell_type": "code",
   "execution_count": 20,
   "metadata": {},
   "outputs": [
    {
     "name": "stdout",
     "output_type": "stream",
     "text": [
      "Document 1:\n",
      "Metadata: {'': 'header_0', 'rank': 'header_1', 'goodsName': 'header_2', 'category': 'header_3', 'price': 'header_4', 'purchase_link': 'header_5', 'image_link': 'header_6', 'memberNo': 'header_7', 'skintype': 'header_8', 'skinton': 'header_9', 'skinconcerns': 'header_10', 'goodsNo': 'header_11', 'review': 'header_12', 'rating': 'header_13', 'date': 'header_14', 'function': 'header_15', 'formulation': 'header_16', 'price_category': 'header_17', 'row_content': '<tr>\\n\\n<td>0</td>\\n<td>피지오겔 DMT 페이셜 로션</td>\\n<td>로션</td>\\n<td>19900</td>\\n<td>https://www.oliveyoung.co.kr/store/goods/getGoodsDetail.do?goodsNo=A000000209436&amp;dispCatNo=100000100010016&amp;t_page=카테고리관&amp;t_click=로션_전체__상품상세&amp;t_number=2</td>\\n<td>https://image.oliveyoung.co.kr/cfimages/cf-goods/uploads/images/thumbnails/550/10/0000/0020/A00000020943608ko.jpg?l=ko</td>\\n<td>M0000000772845</td>\\n<td>건성</td>\\n<td>쿨톤</td>\\n<td>민감성 아토피 주름</td>\\n<td>A000000209436</td>\\n<td>지성분들은 크림말고 로션쓰세요! 보습감은 충붕한데 화장 안밀려서 좋아요</td>\\n<td>10</td>\\n<td>2024.10.28</td>\\n<td>수분 진정</td>\\n<td>가벼운 제형</td>\\n<td>2이하</td>\\n</tr>'}\n",
      "Content: <tr>\n",
      "\n",
      "<td>0</td>\n",
      "<td>피지오겔 DMT 페이셜 로션</td>\n",
      "<td>로션</td>\n",
      "<td>19900</td>\n",
      "<td>https://www.oliveyoung.co.kr/store/goods/getGoodsDetail.do?goodsNo=A000000209436&amp;dispCatNo=100000100010016&amp;t_page=카테고리관&amp;t_click=로션_전체__상품상세&amp;t_number=2</td>\n",
      "<td>https://image.oliveyoung.co.kr/cfimages/cf-goods/uploads/images/thumbnails/550/10/0000/0020/A00000020943608ko.jpg?l=ko</td>\n",
      "<td>M0000000772845</td>\n",
      "<td>건성</td>\n",
      "<td>쿨톤</td>\n",
      "<td>민감성 아토피 주름</td>\n",
      "<td>A000000209436</td>\n",
      "<td>지성분들은 크림말고 로션쓰세요! 보습감은 충붕한데 화장 안밀려서 좋아요</td>\n",
      "<td>10</td>\n",
      "<td>2024.10.28</td>\n",
      "<td>수분 진정</td>\n",
      "<td>가벼운 제형</td>\n",
      "<td>2이하</td>\n",
      "</tr>\n",
      "\n",
      "\n",
      "Document 2:\n",
      "Metadata: {'': 'header_0', 'rank': 'header_1', 'goodsName': 'header_2', 'category': 'header_3', 'price': 'header_4', 'purchase_link': 'header_5', 'image_link': 'header_6', 'memberNo': 'header_7', 'skintype': 'header_8', 'skinton': 'header_9', 'skinconcerns': 'header_10', 'goodsNo': 'header_11', 'review': 'header_12', 'rating': 'header_13', 'date': 'header_14', 'function': 'header_15', 'formulation': 'header_16', 'price_category': 'header_17', 'row_content': '<tr>\\n\\n<td>1</td>\\n<td>피지오겔 DMT 페이셜 로션</td>\\n<td>로션</td>\\n<td>19900</td>\\n<td>https://www.oliveyoung.co.kr/store/goods/getGoodsDetail.do?goodsNo=A000000209436&amp;dispCatNo=100000100010016&amp;t_page=카테고리관&amp;t_click=로션_전체__상품상세&amp;t_number=2</td>\\n<td>https://image.oliveyoung.co.kr/cfimages/cf-goods/uploads/images/thumbnails/550/10/0000/0020/A00000020943608ko.jpg?l=ko</td>\\n<td>M0000012625454</td>\\n<td>지성</td>\\n<td>봄웜톤</td>\\n<td>다크서클 민감성 블랙헤드 잡티 트러블</td>\\n<td>A000000209436</td>\\n<td>수부지입니다. 포토카드 샘플 필요없고 그냥 가격만 싸게 해주십쇼. 토너 세럼 사용 후 수분을 가둬두는데 좋은 것 같습니다. 끈적임 없음</td>\\n<td>8</td>\\n<td>2024.10.27</td>\\n<td>수분 진정</td>\\n<td>가벼운 제형</td>\\n<td>2이하</td>\\n</tr>'}\n",
      "Content: <tr>\n",
      "\n",
      "<td>1</td>\n",
      "<td>피지오겔 DMT 페이셜 로션</td>\n",
      "<td>로션</td>\n",
      "<td>19900</td>\n",
      "<td>https://www.oliveyoung.co.kr/store/goods/getGoodsDetail.do?goodsNo=A000000209436&amp;dispCatNo=100000100010016&amp;t_page=카테고리관&amp;t_click=로션_전체__상품상세&amp;t_number=2</td>\n",
      "<td>https://image.oliveyoung.co.kr/cfimages/cf-goods/uploads/images/thumbnails/550/10/0000/0020/A00000020943608ko.jpg?l=ko</td>\n",
      "<td>M0000012625454</td>\n",
      "<td>지성</td>\n",
      "<td>봄웜톤</td>\n",
      "<td>다크서클 민감성 블랙헤드 잡티 트러블</td>\n",
      "<td>A000000209436</td>\n",
      "<td>수부지입니다. 포토카드 샘플 필요없고 그냥 가격만 싸게 해주십쇼. 토너 세럼 사용 후 수분을 가둬두는데 좋은 것 같습니다. 끈적임 없음</td>\n",
      "<td>8</td>\n",
      "<td>2024.10.27</td>\n",
      "<td>수분 진정</td>\n",
      "<td>가벼운 제형</td>\n",
      "<td>2이하</td>\n",
      "</tr>\n",
      "\n",
      "\n",
      "Document 3:\n",
      "Metadata: {'': 'header_0', 'rank': 'header_1', 'goodsName': 'header_2', 'category': 'header_3', 'price': 'header_4', 'purchase_link': 'header_5', 'image_link': 'header_6', 'memberNo': 'header_7', 'skintype': 'header_8', 'skinton': 'header_9', 'skinconcerns': 'header_10', 'goodsNo': 'header_11', 'review': 'header_12', 'rating': 'header_13', 'date': 'header_14', 'function': 'header_15', 'formulation': 'header_16', 'price_category': 'header_17', 'row_content': '<tr>\\n\\n<td>2</td>\\n<td>피지오겔 DMT 페이셜 로션</td>\\n<td>로션</td>\\n<td>19900</td>\\n<td>https://www.oliveyoung.co.kr/store/goods/getGoodsDetail.do?goodsNo=A000000209436&amp;dispCatNo=100000100010016&amp;t_page=카테고리관&amp;t_click=로션_전체__상품상세&amp;t_number=2</td>\\n<td>https://image.oliveyoung.co.kr/cfimages/cf-goods/uploads/images/thumbnails/550/10/0000/0020/A00000020943608ko.jpg?l=ko</td>\\n<td>M0000010045183</td>\\n<td>복합성</td>\\n<td>가을웜톤</td>\\n<td>각질 모공 민감성 블랙헤드 잡티 주름 탄력 트러블 피지과다</td>\\n<td>A000000209436</td>\\n<td>순하고, 화장 밀림 없어요. 여름철엔 좀 기름지지만 양조절하면 됨. 겨울에 찬바람에 얼굴 다 텃을 때 듬뿍 바르고 자서 가라 앉은 이후로 계속 쓰고 있어요. 면세점에서도 사왔는데 할인해서 2만원 정도면 면세가랑 별반 안다름..ㅎㅎ&lt;br/&gt;변우석 싫어하진 않는데,, 모델로 써서 내 피지오겔 가격만 안 오르면 좋겠음.. 이런건 기능만 봐서 용기 촌스러워도 쓰고, 모델보고 사는 화장품이 아니기 때문에ㅠㅠ</td>\\n<td>10</td>\\n<td>2024.09.14</td>\\n<td>수분 진정</td>\\n<td>가벼운 제형</td>\\n<td>2이하</td>\\n</tr>'}\n",
      "Content: <tr>\n",
      "\n",
      "<td>2</td>\n",
      "<td>피지오겔 DMT 페이셜 로션</td>\n",
      "<td>로션</td>\n",
      "<td>19900</td>\n",
      "<td>https://www.oliveyoung.co.kr/store/goods/getGoodsDetail.do?goodsNo=A000000209436&amp;dispCatNo=100000100010016&amp;t_page=카테고리관&amp;t_click=로션_전체__상품상세&amp;t_number=2</td>\n",
      "<td>https://image.oliveyoung.co.kr/cfimages/cf-goods/uploads/images/thumbnails/550/10/0000/0020/A00000020943608ko.jpg?l=ko</td>\n",
      "<td>M0000010045183</td>\n",
      "<td>복합성</td>\n",
      "<td>가을웜톤</td>\n",
      "<td>각질 모공 민감성 블랙헤드 잡티 주름 탄력 트러블 피지과다</td>\n",
      "<td>A000000209436</td>\n",
      "<td>순하고, 화장 밀림 없어요. 여름철엔 좀 기름지지만 양조절하면 됨. 겨울에 찬바람에 얼굴 다 텃을 때 듬뿍 바르고 자서 가라 앉은 이후로 계속 쓰고 있어요. 면세점에서도 사왔는데 할인해서 2만원 정도면 면세가랑 별반 안다름..ㅎㅎ&lt;br/&gt;변우석 싫어하진 않는데,, 모델로 써서 내 피지오겔 가격만 안 오르면 좋겠음.. 이런건 기능만 봐서 용기 촌스러워도 쓰고, 모델보고 사는 화장품이 아니기 때문에ㅠㅠ</td>\n",
      "<td>10</td>\n",
      "<td>2024.09.14</td>\n",
      "<td>수분 진정</td>\n",
      "<td>가벼운 제형</td>\n",
      "<td>2이하</td>\n",
      "</tr>\n",
      "\n",
      "\n",
      "Document 4:\n",
      "Metadata: {'': 'header_0', 'rank': 'header_1', 'goodsName': 'header_2', 'category': 'header_3', 'price': 'header_4', 'purchase_link': 'header_5', 'image_link': 'header_6', 'memberNo': 'header_7', 'skintype': 'header_8', 'skinton': 'header_9', 'skinconcerns': 'header_10', 'goodsNo': 'header_11', 'review': 'header_12', 'rating': 'header_13', 'date': 'header_14', 'function': 'header_15', 'formulation': 'header_16', 'price_category': 'header_17', 'row_content': '<tr>\\n\\n<td>3</td>\\n<td>피지오겔 DMT 페이셜 로션</td>\\n<td>로션</td>\\n<td>19900</td>\\n<td>https://www.oliveyoung.co.kr/store/goods/getGoodsDetail.do?goodsNo=A000000209436&amp;dispCatNo=100000100010016&amp;t_page=카테고리관&amp;t_click=로션_전체__상품상세&amp;t_number=2</td>\\n<td>https://image.oliveyoung.co.kr/cfimages/cf-goods/uploads/images/thumbnails/550/10/0000/0020/A00000020943608ko.jpg?l=ko</td>\\n<td>M0000010989920</td>\\n<td>건성</td>\\n<td>봄웜톤</td>\\n<td>블랙헤드 주름 트러블</td>\\n<td>A000000209436</td>\\n<td>피지오겔로션은 남녀노소 안좋아하는 사람들이 있나요??&lt;br/&gt;수분감 좋고 바디로션으로 사용해도 좋은 로션💗💗&lt;br/&gt;다른걸로 갈아탈 수가 없어요</td>\\n<td>10</td>\\n<td>2024.10.31</td>\\n<td>수분 진정</td>\\n<td>가벼운 제형</td>\\n<td>2이하</td>\\n</tr>'}\n",
      "Content: <tr>\n",
      "\n",
      "<td>3</td>\n",
      "<td>피지오겔 DMT 페이셜 로션</td>\n",
      "<td>로션</td>\n",
      "<td>19900</td>\n",
      "<td>https://www.oliveyoung.co.kr/store/goods/getGoodsDetail.do?goodsNo=A000000209436&amp;dispCatNo=100000100010016&amp;t_page=카테고리관&amp;t_click=로션_전체__상품상세&amp;t_number=2</td>\n",
      "<td>https://image.oliveyoung.co.kr/cfimages/cf-goods/uploads/images/thumbnails/550/10/0000/0020/A00000020943608ko.jpg?l=ko</td>\n",
      "<td>M0000010989920</td>\n",
      "<td>건성</td>\n",
      "<td>봄웜톤</td>\n",
      "<td>블랙헤드 주름 트러블</td>\n",
      "<td>A000000209436</td>\n",
      "<td>피지오겔로션은 남녀노소 안좋아하는 사람들이 있나요??&lt;br/&gt;수분감 좋고 바디로션으로 사용해도 좋은 로션💗💗&lt;br/&gt;다른걸로 갈아탈 수가 없어요</td>\n",
      "<td>10</td>\n",
      "<td>2024.10.31</td>\n",
      "<td>수분 진정</td>\n",
      "<td>가벼운 제형</td>\n",
      "<td>2이하</td>\n",
      "</tr>\n",
      "\n",
      "\n",
      "Document 5:\n",
      "Metadata: {'': 'header_0', 'rank': 'header_1', 'goodsName': 'header_2', 'category': 'header_3', 'price': 'header_4', 'purchase_link': 'header_5', 'image_link': 'header_6', 'memberNo': 'header_7', 'skintype': 'header_8', 'skinton': 'header_9', 'skinconcerns': 'header_10', 'goodsNo': 'header_11', 'review': 'header_12', 'rating': 'header_13', 'date': 'header_14', 'function': 'header_15', 'formulation': 'header_16', 'price_category': 'header_17', 'row_content': '<tr>\\n\\n<td>4</td>\\n<td>피지오겔 DMT 페이셜 로션</td>\\n<td>로션</td>\\n<td>19900</td>\\n<td>https://www.oliveyoung.co.kr/store/goods/getGoodsDetail.do?goodsNo=A000000209436&amp;dispCatNo=100000100010016&amp;t_page=카테고리관&amp;t_click=로션_전체__상품상세&amp;t_number=2</td>\\n<td>https://image.oliveyoung.co.kr/cfimages/cf-goods/uploads/images/thumbnails/550/10/0000/0020/A00000020943608ko.jpg?l=ko</td>\\n<td>M0000019171077</td>\\n<td>건성</td>\\n<td>가을웜톤</td>\\n<td>미백</td>\\n<td>A000000209436</td>\\n<td>저 로션은 피지오겔만 씁니다&lt;br/&gt;4년정도 이거에 정착했는데&lt;br/&gt;다른거 이거저거 바꿔도 이 제품만한게 없어요&lt;br/&gt;촉촉하고 순하고,,&lt;br/&gt;몇통 썼는지 세기도 힘들어요&lt;br/&gt;귀찮아서 그동안 안쓰다가&lt;br/&gt;진짜 좋은거 다들 썼음해서..&lt;br/&gt;(변우석씨 포카 필요한분..? 전 이 제품 다 떨어져서 샀는데 주더라구요..?)&lt;br/&gt;피지오겔 스킨도 추천합니다 꾸덕해요</td>\\n<td>10</td>\\n<td>2024.10.28</td>\\n<td>수분 진정</td>\\n<td>가벼운 제형</td>\\n<td>2이하</td>\\n</tr>'}\n",
      "Content: <tr>\n",
      "\n",
      "<td>4</td>\n",
      "<td>피지오겔 DMT 페이셜 로션</td>\n",
      "<td>로션</td>\n",
      "<td>19900</td>\n",
      "<td>https://www.oliveyoung.co.kr/store/goods/getGoodsDetail.do?goodsNo=A000000209436&amp;dispCatNo=100000100010016&amp;t_page=카테고리관&amp;t_click=로션_전체__상품상세&amp;t_number=2</td>\n",
      "<td>https://image.oliveyoung.co.kr/cfimages/cf-goods/uploads/images/thumbnails/550/10/0000/0020/A00000020943608ko.jpg?l=ko</td>\n",
      "<td>M0000019171077</td>\n",
      "<td>건성</td>\n",
      "<td>가을웜톤</td>\n",
      "<td>미백</td>\n",
      "<td>A000000209436</td>\n",
      "<td>저 로션은 피지오겔만 씁니다&lt;br/&gt;4년정도 이거에 정착했는데&lt;br/&gt;다른거 이거저거 바꿔도 이 제품만한게 없어요&lt;br/&gt;촉촉하고 순하고,,&lt;br/&gt;몇통 썼는지 세기도 힘들어요&lt;br/&gt;귀찮아서 그동안 안쓰다가&lt;br/&gt;진짜 좋은거 다들 썼음해서..&lt;br/&gt;(변우석씨 포카 필요한분..? 전 이 제품 다 떨어져서 샀는데 주더라구요..?)&lt;br/&gt;피지오겔 스킨도 추천합니다 꾸덕해요</td>\n",
      "<td>10</td>\n",
      "<td>2024.10.28</td>\n",
      "<td>수분 진정</td>\n",
      "<td>가벼운 제형</td>\n",
      "<td>2이하</td>\n",
      "</tr>\n",
      "\n",
      "\n",
      "Document 6:\n",
      "Metadata: {'': 'header_0', 'rank': 'header_1', 'goodsName': 'header_2', 'category': 'header_3', 'price': 'header_4', 'purchase_link': 'header_5', 'image_link': 'header_6', 'memberNo': 'header_7', 'skintype': 'header_8', 'skinton': 'header_9', 'skinconcerns': 'header_10', 'goodsNo': 'header_11', 'review': 'header_12', 'rating': 'header_13', 'date': 'header_14', 'function': 'header_15', 'formulation': 'header_16', 'price_category': 'header_17', 'row_content': '<tr>\\n\\n<td>5</td>\\n<td>피지오겔 DMT 페이셜 로션</td>\\n<td>로션</td>\\n<td>19900</td>\\n<td>https://www.oliveyoung.co.kr/store/goods/getGoodsDetail.do?goodsNo=A000000209436&amp;dispCatNo=100000100010016&amp;t_page=카테고리관&amp;t_click=로션_전체__상품상세&amp;t_number=2</td>\\n<td>https://image.oliveyoung.co.kr/cfimages/cf-goods/uploads/images/thumbnails/550/10/0000/0020/A00000020943608ko.jpg?l=ko</td>\\n<td>M0000003927923</td>\\n<td>민감성</td>\\n<td>여름쿨톤</td>\\n<td>다크서클 민감성 잡티 탄력</td>\\n<td>A000000209436</td>\\n<td>무난하게 쓰기 좋아서 구매한 로션입니다. 유분기는 보통이에요. 우석씨.. 역시 잘생기셨네요.ㅎㅎㅎ 피지오겔 아쉬운 점은 씰링이 없어요ㅠㅠ 그것 빼곤 다 좋아요.</td>\\n<td>10</td>\\n<td>2024.11.03</td>\\n<td>수분 진정</td>\\n<td>가벼운 제형</td>\\n<td>2이하</td>\\n</tr>'}\n",
      "Content: <tr>\n",
      "\n",
      "<td>5</td>\n",
      "<td>피지오겔 DMT 페이셜 로션</td>\n",
      "<td>로션</td>\n",
      "<td>19900</td>\n",
      "<td>https://www.oliveyoung.co.kr/store/goods/getGoodsDetail.do?goodsNo=A000000209436&amp;dispCatNo=100000100010016&amp;t_page=카테고리관&amp;t_click=로션_전체__상품상세&amp;t_number=2</td>\n",
      "<td>https://image.oliveyoung.co.kr/cfimages/cf-goods/uploads/images/thumbnails/550/10/0000/0020/A00000020943608ko.jpg?l=ko</td>\n",
      "<td>M0000003927923</td>\n",
      "<td>민감성</td>\n",
      "<td>여름쿨톤</td>\n",
      "<td>다크서클 민감성 잡티 탄력</td>\n",
      "<td>A000000209436</td>\n",
      "<td>무난하게 쓰기 좋아서 구매한 로션입니다. 유분기는 보통이에요. 우석씨.. 역시 잘생기셨네요.ㅎㅎㅎ 피지오겔 아쉬운 점은 씰링이 없어요ㅠㅠ 그것 빼곤 다 좋아요.</td>\n",
      "<td>10</td>\n",
      "<td>2024.11.03</td>\n",
      "<td>수분 진정</td>\n",
      "<td>가벼운 제형</td>\n",
      "<td>2이하</td>\n",
      "</tr>\n",
      "\n",
      "\n",
      "Document 7:\n",
      "Metadata: {'': 'header_0', 'rank': 'header_1', 'goodsName': 'header_2', 'category': 'header_3', 'price': 'header_4', 'purchase_link': 'header_5', 'image_link': 'header_6', 'memberNo': 'header_7', 'skintype': 'header_8', 'skinton': 'header_9', 'skinconcerns': 'header_10', 'goodsNo': 'header_11', 'review': 'header_12', 'rating': 'header_13', 'date': 'header_14', 'function': 'header_15', 'formulation': 'header_16', 'price_category': 'header_17', 'row_content': '<tr>\\n\\n<td>6</td>\\n<td>피지오겔 DMT 페이셜 로션</td>\\n<td>로션</td>\\n<td>19900</td>\\n<td>https://www.oliveyoung.co.kr/store/goods/getGoodsDetail.do?goodsNo=A000000209436&amp;dispCatNo=100000100010016&amp;t_page=카테고리관&amp;t_click=로션_전체__상품상세&amp;t_number=2</td>\\n<td>https://image.oliveyoung.co.kr/cfimages/cf-goods/uploads/images/thumbnails/550/10/0000/0020/A00000020943608ko.jpg?l=ko</td>\\n<td>M0000015735366</td>\\n<td>건성</td>\\n<td>웜톤</td>\\n<td>모공 미백 블랙헤드 잡티 주름</td>\\n<td>A000000209436</td>\\n<td>예전에 계속 사용하다가 다른 제품으로 갈아탔는데, 변우석 포토스티커를 준다길래 다시 구매해봤어요!&lt;br/&gt;&lt;br/&gt;포토스티커도 예쁘고 기획세트 구성이 알차요!👍</td>\\n<td>10</td>\\n<td>2024.10.31</td>\\n<td>수분 진정</td>\\n<td>가벼운 제형</td>\\n<td>2이하</td>\\n</tr>'}\n",
      "Content: <tr>\n",
      "\n",
      "<td>6</td>\n",
      "<td>피지오겔 DMT 페이셜 로션</td>\n",
      "<td>로션</td>\n",
      "<td>19900</td>\n",
      "<td>https://www.oliveyoung.co.kr/store/goods/getGoodsDetail.do?goodsNo=A000000209436&amp;dispCatNo=100000100010016&amp;t_page=카테고리관&amp;t_click=로션_전체__상품상세&amp;t_number=2</td>\n",
      "<td>https://image.oliveyoung.co.kr/cfimages/cf-goods/uploads/images/thumbnails/550/10/0000/0020/A00000020943608ko.jpg?l=ko</td>\n",
      "<td>M0000015735366</td>\n",
      "<td>건성</td>\n",
      "<td>웜톤</td>\n",
      "<td>모공 미백 블랙헤드 잡티 주름</td>\n",
      "<td>A000000209436</td>\n",
      "<td>예전에 계속 사용하다가 다른 제품으로 갈아탔는데, 변우석 포토스티커를 준다길래 다시 구매해봤어요!&lt;br/&gt;&lt;br/&gt;포토스티커도 예쁘고 기획세트 구성이 알차요!👍</td>\n",
      "<td>10</td>\n",
      "<td>2024.10.31</td>\n",
      "<td>수분 진정</td>\n",
      "<td>가벼운 제형</td>\n",
      "<td>2이하</td>\n",
      "</tr>\n",
      "\n",
      "\n",
      "Document 8:\n",
      "Metadata: {'': 'header_0', 'rank': 'header_1', 'goodsName': 'header_2', 'category': 'header_3', 'price': 'header_4', 'purchase_link': 'header_5', 'image_link': 'header_6', 'memberNo': 'header_7', 'skintype': 'header_8', 'skinton': 'header_9', 'skinconcerns': 'header_10', 'goodsNo': 'header_11', 'review': 'header_12', 'rating': 'header_13', 'date': 'header_14', 'function': 'header_15', 'formulation': 'header_16', 'price_category': 'header_17', 'row_content': '<tr>\\n\\n<td>7</td>\\n<td>피지오겔 DMT 페이셜 로션</td>\\n<td>로션</td>\\n<td>19900</td>\\n<td>https://www.oliveyoung.co.kr/store/goods/getGoodsDetail.do?goodsNo=A000000209436&amp;dispCatNo=100000100010016&amp;t_page=카테고리관&amp;t_click=로션_전체__상품상세&amp;t_number=2</td>\\n<td>https://image.oliveyoung.co.kr/cfimages/cf-goods/uploads/images/thumbnails/550/10/0000/0020/A00000020943608ko.jpg?l=ko</td>\\n<td>M0000013789359</td>\\n<td>복합성</td>\\n<td>웜톤</td>\\n<td>다크서클 모공 블랙헤드 트러블</td>\\n<td>A000000209436</td>\\n<td>산짝 묽은 제형이고 속당김을 잡아줘서 좋았어요!! 겨울에 정말 잘 사용할 것 같습니다</td>\\n<td>10</td>\\n<td>2024.10.17</td>\\n<td>수분 진정</td>\\n<td>가벼운 제형</td>\\n<td>2이하</td>\\n</tr>'}\n",
      "Content: <tr>\n",
      "\n",
      "<td>7</td>\n",
      "<td>피지오겔 DMT 페이셜 로션</td>\n",
      "<td>로션</td>\n",
      "<td>19900</td>\n",
      "<td>https://www.oliveyoung.co.kr/store/goods/getGoodsDetail.do?goodsNo=A000000209436&amp;dispCatNo=100000100010016&amp;t_page=카테고리관&amp;t_click=로션_전체__상품상세&amp;t_number=2</td>\n",
      "<td>https://image.oliveyoung.co.kr/cfimages/cf-goods/uploads/images/thumbnails/550/10/0000/0020/A00000020943608ko.jpg?l=ko</td>\n",
      "<td>M0000013789359</td>\n",
      "<td>복합성</td>\n",
      "<td>웜톤</td>\n",
      "<td>다크서클 모공 블랙헤드 트러블</td>\n",
      "<td>A000000209436</td>\n",
      "<td>산짝 묽은 제형이고 속당김을 잡아줘서 좋았어요!! 겨울에 정말 잘 사용할 것 같습니다</td>\n",
      "<td>10</td>\n",
      "<td>2024.10.17</td>\n",
      "<td>수분 진정</td>\n",
      "<td>가벼운 제형</td>\n",
      "<td>2이하</td>\n",
      "</tr>\n",
      "\n",
      "\n",
      "Document 9:\n",
      "Metadata: {'': 'header_0', 'rank': 'header_1', 'goodsName': 'header_2', 'category': 'header_3', 'price': 'header_4', 'purchase_link': 'header_5', 'image_link': 'header_6', 'memberNo': 'header_7', 'skintype': 'header_8', 'skinton': 'header_9', 'skinconcerns': 'header_10', 'goodsNo': 'header_11', 'review': 'header_12', 'rating': 'header_13', 'date': 'header_14', 'function': 'header_15', 'formulation': 'header_16', 'price_category': 'header_17', 'row_content': '<tr>\\n\\n<td>8</td>\\n<td>피지오겔 DMT 페이셜 로션</td>\\n<td>로션</td>\\n<td>19900</td>\\n<td>https://www.oliveyoung.co.kr/store/goods/getGoodsDetail.do?goodsNo=A000000209436&amp;dispCatNo=100000100010016&amp;t_page=카테고리관&amp;t_click=로션_전체__상품상세&amp;t_number=2</td>\\n<td>https://image.oliveyoung.co.kr/cfimages/cf-goods/uploads/images/thumbnails/550/10/0000/0020/A00000020943608ko.jpg?l=ko</td>\\n<td>M0000020966310</td>\\n<td>지성</td>\\n<td>웜톤</td>\\n<td>주름 트러블 피지과다</td>\\n<td>A000000209436</td>\\n<td>50미리는 휴대용으로 쓰기 좋겠어요.피지오겔제품은 예민한피부에도 자극없어 좋아요</td>\\n<td>10</td>\\n<td>2024.09.27</td>\\n<td>수분 진정</td>\\n<td>가벼운 제형</td>\\n<td>2이하</td>\\n</tr>'}\n",
      "Content: <tr>\n",
      "\n",
      "<td>8</td>\n",
      "<td>피지오겔 DMT 페이셜 로션</td>\n",
      "<td>로션</td>\n",
      "<td>19900</td>\n",
      "<td>https://www.oliveyoung.co.kr/store/goods/getGoodsDetail.do?goodsNo=A000000209436&amp;dispCatNo=100000100010016&amp;t_page=카테고리관&amp;t_click=로션_전체__상품상세&amp;t_number=2</td>\n",
      "<td>https://image.oliveyoung.co.kr/cfimages/cf-goods/uploads/images/thumbnails/550/10/0000/0020/A00000020943608ko.jpg?l=ko</td>\n",
      "<td>M0000020966310</td>\n",
      "<td>지성</td>\n",
      "<td>웜톤</td>\n",
      "<td>주름 트러블 피지과다</td>\n",
      "<td>A000000209436</td>\n",
      "<td>50미리는 휴대용으로 쓰기 좋겠어요.피지오겔제품은 예민한피부에도 자극없어 좋아요</td>\n",
      "<td>10</td>\n",
      "<td>2024.09.27</td>\n",
      "<td>수분 진정</td>\n",
      "<td>가벼운 제형</td>\n",
      "<td>2이하</td>\n",
      "</tr>\n",
      "\n",
      "\n",
      "Document 10:\n",
      "Metadata: {'': 'header_0', 'rank': 'header_1', 'goodsName': 'header_2', 'category': 'header_3', 'price': 'header_4', 'purchase_link': 'header_5', 'image_link': 'header_6', 'memberNo': 'header_7', 'skintype': 'header_8', 'skinton': 'header_9', 'skinconcerns': 'header_10', 'goodsNo': 'header_11', 'review': 'header_12', 'rating': 'header_13', 'date': 'header_14', 'function': 'header_15', 'formulation': 'header_16', 'price_category': 'header_17', 'row_content': '<tr>\\n\\n<td>9</td>\\n<td>피지오겔 DMT 페이셜 로션</td>\\n<td>로션</td>\\n<td>19900</td>\\n<td>https://www.oliveyoung.co.kr/store/goods/getGoodsDetail.do?goodsNo=A000000209436&amp;dispCatNo=100000100010016&amp;t_page=카테고리관&amp;t_click=로션_전체__상품상세&amp;t_number=2</td>\\n<td>https://image.oliveyoung.co.kr/cfimages/cf-goods/uploads/images/thumbnails/550/10/0000/0020/A00000020943608ko.jpg?l=ko</td>\\n<td>M0000000557558</td>\\n<td>복합성</td>\\n<td>쿨톤</td>\\n<td>잡티</td>\\n<td>A000000209436</td>\\n<td>잘 사용하고 있는 제품이랍니다. 우선 이 제품은 자극적이지 않아요.그래서 가족들하고 다같이 사용하고 있답니다. 여드름 있는 가족도 잘 사용하고 있어요. 뿐만 아니라 촉촉해서 요즘 같은 계절에 사용하기도 좋아요. 잘 사용하도록 하겠습니다. 또 구매할게요~!</td>\\n<td>10</td>\\n<td>2024.11.09</td>\\n<td>수분 진정</td>\\n<td>가벼운 제형</td>\\n<td>2이하</td>\\n</tr>'}\n",
      "Content: <tr>\n",
      "\n",
      "<td>9</td>\n",
      "<td>피지오겔 DMT 페이셜 로션</td>\n",
      "<td>로션</td>\n",
      "<td>19900</td>\n",
      "<td>https://www.oliveyoung.co.kr/store/goods/getGoodsDetail.do?goodsNo=A000000209436&amp;dispCatNo=100000100010016&amp;t_page=카테고리관&amp;t_click=로션_전체__상품상세&amp;t_number=2</td>\n",
      "<td>https://image.oliveyoung.co.kr/cfimages/cf-goods/uploads/images/thumbnails/550/10/0000/0020/A00000020943608ko.jpg?l=ko</td>\n",
      "<td>M0000000557558</td>\n",
      "<td>복합성</td>\n",
      "<td>쿨톤</td>\n",
      "<td>잡티</td>\n",
      "<td>A000000209436</td>\n",
      "<td>잘 사용하고 있는 제품이랍니다. 우선 이 제품은 자극적이지 않아요.그래서 가족들하고 다같이 사용하고 있답니다. 여드름 있는 가족도 잘 사용하고 있어요. 뿐만 아니라 촉촉해서 요즘 같은 계절에 사용하기도 좋아요. 잘 사용하도록 하겠습니다. 또 구매할게요~!</td>\n",
      "<td>10</td>\n",
      "<td>2024.11.09</td>\n",
      "<td>수분 진정</td>\n",
      "<td>가벼운 제형</td>\n",
      "<td>2이하</td>\n",
      "</tr>\n",
      "\n",
      "\n"
     ]
    }
   ],
   "source": [
    "from bs4 import BeautifulSoup\n",
    "from langchain_core.documents.base import Document  # Assuming you're using a Document-like structure\n",
    "\n",
    "# Step 1: Parse the HTML and extract <thead> headers\n",
    "soup = BeautifulSoup(html_output, \"html.parser\")\n",
    "thead = soup.find(\"thead\")\n",
    "\n",
    "# Create a dictionary with individual header keys\n",
    "metadata_headers = {}\n",
    "header_tags = thead.find_all(\"th\")\n",
    "for i, th in enumerate(header_tags):\n",
    "    header_text = th.get_text(strip=True)\n",
    "    metadata_headers[header_text] = f\"header_{i}\"  # Example placeholder, customize as needed\n",
    "\n",
    "# Step 2: Remove <th> tags inside <tbody> to prevent unwanted content\n",
    "tbody = soup.find(\"tbody\")\n",
    "if tbody:\n",
    "    for th_tag in tbody.find_all(\"th\"):\n",
    "        th_tag.decompose()\n",
    "\n",
    "# Step 3: Create a Document for each <tr> in <tbody> with refined metadata\n",
    "updated_documents = []\n",
    "tr_tags = tbody.find_all(\"tr\")  # Find all rows in tbody\n",
    "for tr in tr_tags:\n",
    "    # Extract content for the current <tr> as a string\n",
    "    tr_content = str(tr)\n",
    "    \n",
    "    # Combine each individual header from <thead> as metadata\n",
    "    document_metadata = metadata_headers.copy()  # Shallow copy to avoid modifying original headers\n",
    "    document_metadata[\"row_content\"] = tr_content\n",
    "    \n",
    "    # Create a new Document with row content and metadata\n",
    "    updated_doc = Document(page_content=tr_content, metadata=document_metadata)\n",
    "    updated_documents.append(updated_doc)\n",
    "\n",
    "# Step 4: Verify the results\n",
    "for i, doc in enumerate(updated_documents):\n",
    "    print(f\"Document {i+1}:\")\n",
    "    print(\"Metadata:\", doc.metadata)\n",
    "    print(\"Content:\", doc.page_content)\n",
    "    print(\"\\n\")"
   ]
  },
  {
   "cell_type": "code",
   "execution_count": 32,
   "metadata": {},
   "outputs": [
    {
     "data": {
      "text/plain": [
       "{'': 'header_0',\n",
       " 'rank': 'header_1',\n",
       " 'goodsName': 'header_2',\n",
       " 'category': 'header_3',\n",
       " 'price': 'header_4',\n",
       " 'purchase_link': 'header_5',\n",
       " 'image_link': 'header_6',\n",
       " 'memberNo': 'header_7',\n",
       " 'skintype': 'header_8',\n",
       " 'skinton': 'header_9',\n",
       " 'skinconcerns': 'header_10',\n",
       " 'goodsNo': 'header_11',\n",
       " 'review': 'header_12',\n",
       " 'rating': 'header_13',\n",
       " 'date': 'header_14',\n",
       " 'function': 'header_15',\n",
       " 'formulation': 'header_16',\n",
       " 'price_category': 'header_17',\n",
       " 'row_content': '<tr>\\n\\n<td>0</td>\\n<td>피지오겔 DMT 페이셜 로션</td>\\n<td>로션</td>\\n<td>19900</td>\\n<td>https://www.oliveyoung.co.kr/store/goods/getGoodsDetail.do?goodsNo=A000000209436&amp;dispCatNo=100000100010016&amp;t_page=카테고리관&amp;t_click=로션_전체__상품상세&amp;t_number=2</td>\\n<td>https://image.oliveyoung.co.kr/cfimages/cf-goods/uploads/images/thumbnails/550/10/0000/0020/A00000020943608ko.jpg?l=ko</td>\\n<td>M0000000772845</td>\\n<td>건성</td>\\n<td>쿨톤</td>\\n<td>민감성 아토피 주름</td>\\n<td>A000000209436</td>\\n<td>지성분들은 크림말고 로션쓰세요! 보습감은 충붕한데 화장 안밀려서 좋아요</td>\\n<td>10</td>\\n<td>2024.10.28</td>\\n<td>수분 진정</td>\\n<td>가벼운 제형</td>\\n<td>2이하</td>\\n</tr>'}"
      ]
     },
     "execution_count": 32,
     "metadata": {},
     "output_type": "execute_result"
    }
   ],
   "source": [
    "updated_documents[0].metadata"
   ]
  },
  {
   "cell_type": "code",
   "execution_count": null,
   "metadata": {},
   "outputs": [],
   "source": []
  },
  {
   "cell_type": "markdown",
   "metadata": {},
   "source": [
    "# 3. 임베딩\n",
    "## 3.1 OpenAIEmbedding\n",
    "- text-embedding-3-large\n",
    "- text-embedding-3-small\n",
    "- text-embedding-ada-002"
   ]
  },
  {
   "cell_type": "code",
   "execution_count": null,
   "metadata": {},
   "outputs": [
    {
     "name": "stdout",
     "output_type": "stream",
     "text": [
      "165223\n",
      "rank: 0\n",
      "goodsName: 피지오겔 DMT 페이셜 로션\n",
      "category: 로션\n",
      "price: 19900\n",
      "purchase_link: https://www.oliveyoung.co.kr/store/goods/getGoodsDetail.do?goodsNo=A000000209436&dispCatNo=100000100010016&t_page=카테고리관&t_click=로션_전체__상품상세&t_number=2\n",
      "image_link: https://image.oliveyoung.co.kr/cfimages/cf-goods/uploads/images/thumbnails/550/10/0000/0020/A00000020943608ko.jpg?l=ko\n",
      "memberNo: M0000000772845\n",
      "skintype: 건성\n",
      "skinton: 쿨톤\n",
      "skinconcerns: 민감성 아토피 주름\n",
      "goodsNo: A000000209436\n",
      "review: 지성분들은 크림말고 로션쓰세요! 보습감은 충붕한데 화장 안밀려서 좋아요\n",
      "rating: 10\n",
      "date: 2024.10.28\n",
      "function: 수분 진정\n",
      "formulation: 가벼운 제형\n",
      "price_category: 2이하\n"
     ]
    }
   ],
   "source": [
    "contents = [content.page_content for content in docs]\n",
    "print(len(contents))\n",
    "print(contents[0])"
   ]
  },
  {
   "cell_type": "code",
   "execution_count": 42,
   "metadata": {},
   "outputs": [
    {
     "name": "stdout",
     "output_type": "stream",
     "text": [
      "<class 'list'>\n"
     ]
    }
   ],
   "source": [
    "# 1. text-embedding-3-large\n",
    "\n",
    "from langchain_openai import OpenAIEmbeddings\n",
    "\n",
    "embeddings = OpenAIEmbeddings(model = 'text-embedding-3-large')\n",
    "embedded_docs = embeddings.embed_documents(contents)\n",
    "\n",
    "print(type(embedded_docs))"
   ]
  },
  {
   "cell_type": "code",
   "execution_count": null,
   "metadata": {},
   "outputs": [],
   "source": []
  }
 ],
 "metadata": {
  "kernelspec": {
   "display_name": "lang-chain-beauty-advisor2-B3fzUL_J-py3.11",
   "language": "python",
   "name": "python3"
  },
  "language_info": {
   "codemirror_mode": {
    "name": "ipython",
    "version": 3
   },
   "file_extension": ".py",
   "mimetype": "text/x-python",
   "name": "python",
   "nbconvert_exporter": "python",
   "pygments_lexer": "ipython3",
   "version": "3.11.0"
  }
 },
 "nbformat": 4,
 "nbformat_minor": 2
}

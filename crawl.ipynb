{
 "cells": [
  {
   "cell_type": "markdown",
   "id": "f748a393",
   "metadata": {},
   "source": [
    "# 1. 코드 기능 하나씩 구현"
   ]
  },
  {
   "cell_type": "code",
   "execution_count": 21,
   "id": "59a53fef718d2451",
   "metadata": {
    "ExecuteTime": {
     "end_time": "2024-11-11T00:40:51.800578Z",
     "start_time": "2024-11-11T00:40:51.743062Z"
    }
   },
   "outputs": [
    {
     "name": "stdout",
     "output_type": "stream",
     "text": [
      "바이오더마 하이드라비오 토너\n"
     ]
    }
   ],
   "source": [
    "from product_name_preprocessing import *\n",
    "product_name='[11월 올영픽/토너 250ml증정]바이오더마 하이드라비오 토너 500ml 기획(+토너 250ml 증정)'\n",
    "text=preprocessing_product_name(product_name)\n",
    "print(text)"
   ]
  },
  {
   "cell_type": "code",
   "execution_count": 26,
   "id": "d32b779e498fb28b",
   "metadata": {
    "ExecuteTime": {
     "end_time": "2024-11-11T01:05:15.838885Z",
     "start_time": "2024-11-11T01:05:15.626374Z"
    }
   },
   "outputs": [
    {
     "name": "stdout",
     "output_type": "stream",
     "text": [
      "products/4900\n"
     ]
    }
   ],
   "source": [
    "from bs4 import BeautifulSoup\n",
    "import requests\n",
    "\n",
    "\n",
    "url=f'https://www.hwahae.co.kr/search?q={text}'\n",
    "response = requests.get(url)\n",
    "soup = BeautifulSoup(response.text, 'html.parser')\n",
    "\n",
    "a_tag=soup.select('#__next > main > section > section > div.px-20 > ul > li:nth-child(1) > div > a')\n",
    "href=a_tag[0]['href']\n",
    "print(href)\n",
    "\n"
   ]
  },
  {
   "cell_type": "code",
   "execution_count": 5,
   "id": "f203c271e3fcbdf5",
   "metadata": {
    "ExecuteTime": {
     "end_time": "2024-11-09T15:24:55.575671Z",
     "start_time": "2024-11-09T15:24:55.570281Z"
    }
   },
   "outputs": [
    {
     "ename": "SyntaxError",
     "evalue": "invalid syntax (629481214.py, line 1)",
     "output_type": "error",
     "traceback": [
      "\u001b[1;36m  Cell \u001b[1;32mIn[5], line 1\u001b[1;36m\u001b[0m\n\u001b[1;33m    https://www.hwahae.co.kr/products/4900                https://www.hwahae.co.kr/products/4900\u001b[0m\n\u001b[1;37m          ^\u001b[0m\n\u001b[1;31mSyntaxError\u001b[0m\u001b[1;31m:\u001b[0m invalid syntax\n"
     ]
    }
   ],
   "source": [
    "https://www.hwahae.co.kr/products/4900                https://www.hwahae.co.kr/products/4900\n",
    "https://www.hwahae.co.kr/goods/61961?goods_tab=review_ingredients          https://www.hwahae.co.kr/goods/61961?goods_tab=review_ingredients"
   ]
  },
  {
   "cell_type": "code",
   "execution_count": 43,
   "id": "9a3329e07eead777",
   "metadata": {
    "ExecuteTime": {
     "end_time": "2024-11-11T00:51:50.609401Z",
     "start_time": "2024-11-11T00:51:50.595521Z"
    }
   },
   "outputs": [],
   "source": [
    "h={'User-Agent': 'Mozilla/5.0 (Windows NT 10.0; Win64; x64) AppleWebKit/537.36 (KHTML, like Gecko) Chrome/130.0.0.0 Safari/537.36',\n",
    "   'Cookie': '_ga_3V19ZGJ84W=GS1.1.1731286911.1.0.1731286911.0.0.0; _ga=GA1.1.1456301248.1731286912; _tt_enable_cookie=1; _ttp=J_Y3wZSgjwteQLHGjuCc8fENzKT; _fbp=fb.2.1731286926465.175496475186567195; aws-waf-token=5808b6ac-e973-45a5-b954-aa7fb0ec561e:AQoAYO8NypIXAAAA:kHHU5Y7cnBVv81SIvkgE4K61MLtfg/3BBBpU3kPu4aa+iB3RvGWaVRaFybyIjoqKS/OD9iiUUZY6uDLd5zwKs6WJhl+xsNqQORcTBdSvIBvFZB/OeHYp0YmsJURW/zJRuxbTcMve9Pw945FZ4crpCFLv6Gxk+9lFUhYGd3+jSHv/xHadA6USlvIp6eusn+K0RMeN; _ga_36NCBJ5CBH=GS1.1.1731289454.2.1.1731291782.60.0.1705907096'}\n"
   ]
  },
  {
   "cell_type": "markdown",
   "id": "5dbdbeb2",
   "metadata": {},
   "source": [
    "- 기능/효과 -> 화해 -> 수분, 진정, 미백, 탄력 -> 4개\n",
    "- 제형 -> 화해 -> 가벼운, 무거운 -> 2개"
   ]
  },
  {
   "cell_type": "code",
   "execution_count": null,
   "id": "3e7efc648363c12d",
   "metadata": {
    "ExecuteTime": {
     "end_time": "2024-11-11T01:18:24.552433Z",
     "start_time": "2024-11-11T01:18:24.449353Z"
    }
   },
   "outputs": [
    {
     "name": "stdout",
     "output_type": "stream",
     "text": [
      "[<li class=\"flex justify-between gap-x-8\"><span class=\"hds-text-caption-large text-gray-primary line-clamp-1\">수분있는</span><span class=\"hds-text-body-medium text-gray-tertiary\">762</span></li>, <li class=\"flex justify-between gap-x-8\"><span class=\"hds-text-caption-large text-gray-primary line-clamp-1\">보습잘되는</span><span class=\"hds-text-body-medium text-gray-tertiary\">445</span></li>, <li class=\"flex justify-between gap-x-8\"><span class=\"hds-text-caption-large text-gray-primary line-clamp-1\">자극없는</span><span class=\"hds-text-body-medium text-gray-tertiary\">310</span></li>, <li class=\"flex justify-between gap-x-8\"><span class=\"hds-text-caption-large text-gray-primary line-clamp-1\">흡수잘되는</span><span class=\"hds-text-body-medium text-gray-tertiary\">192</span></li>, <li class=\"flex justify-between gap-x-8\"><span class=\"hds-text-caption-large text-gray-primary line-clamp-1\">속건조에효과있는</span><span class=\"hds-text-body-medium text-gray-tertiary\">182</span></li>, <li class=\"flex justify-between gap-x-8\"><span class=\"hds-text-caption-large text-gray-primary line-clamp-1\">향에만족한</span><span class=\"hds-text-body-medium text-gray-tertiary\">158</span></li>, <li class=\"flex justify-between gap-x-8\"><span class=\"hds-text-caption-large text-gray-primary line-clamp-1\">가벼운</span><span class=\"hds-text-body-medium text-gray-tertiary\">116</span></li>]\n"
     ]
    }
   ],
   "source": [
    "url2=f\"https://www.hwahae.co.kr/{href}\"\n",
    "response2=requests.get(url2,headers=h)\n",
    "soup2=BeautifulSoup(response2.text, 'html.parser')\n",
    "\n",
    "good_review_tag=soup2.select_one('div.grow')\n",
    "feature_tags = good_review_tag.select('ul li')\n",
    "\n",
    "features = []\n",
    "for tag in feature_tags:\n",
    "    text_only = re.sub(r'\\d+', '', tag.text)\n",
    "    features.append(text_only.strip())"
   ]
  },
  {
   "cell_type": "code",
   "execution_count": 58,
   "id": "ae24e1d2",
   "metadata": {},
   "outputs": [
    {
     "data": {
      "text/plain": [
       "['수분있는', '보습잘되는', '자극없는', '흡수잘되는', '속건조에효과있는', '향에만족한', '가벼운']"
      ]
     },
     "execution_count": 58,
     "metadata": {},
     "output_type": "execute_result"
    }
   ],
   "source": [
    "features"
   ]
  },
  {
   "cell_type": "code",
   "execution_count": null,
   "id": "4232ca71",
   "metadata": {},
   "outputs": [
    {
     "name": "stdout",
     "output_type": "stream",
     "text": [
      "{'기능/효과': {'수분': ['수분있는', '보습잘되는', '흡수잘되는', '속건조에효과있는'], '진정': ['자극없는'], '미백': [], '탄력': []}, '제형': {'가벼운 제형': ['가벼운'], '무거운 제형': []}, '기타': ['향에만족한']}\n"
     ]
    }
   ],
   "source": [
    "# # 원본 리스트\n",
    "# features = [\n",
    "#     '수분있는', '보습잘되는', '자극없는', '흡수잘되는', '속건조에효과있는', '향에만족한',\n",
    "#     '가벼운', '알러지반응오는', '흘러내리는', '인공향나는', '가려운', '냄새가독한',\n",
    "#     '미끌거리는', '잘굳는'\n",
    "# ]\n",
    "\n",
    "# 카테고리 기준\n",
    "categories = {\n",
    "    '기능/효과': {\n",
    "        '수분': ['흡수잘되는', '끈적하지않은', '속건조에효과있는', '보습잘되는', '수분있는'],\n",
    "        '진정': ['트러블안생기는', '진정되는', '트러블없어지는', '자극없는', '가렵지않은', '뒤집어지지않는', '쿨링되는'],\n",
    "        '미백': ['피부톤이개선되는', '각질제거잘되는'],\n",
    "        '탄력': ['피부결좋아지는', '모공관리되는', '피부강화되는']\n",
    "    },\n",
    "    '제형': {\n",
    "        '가벼운 제형': ['가벼운', '산뜻한', '끈적하지않은', '흡수잘되는'],\n",
    "        '무거운 제형': ['쫀득한', '잘발리는', '리치한']\n",
    "    }\n",
    "}\n",
    "\n",
    "# 분류 결과 저장용 사전, 기타 카테고리 포함\n",
    "categorized_features = {\n",
    "    '기능/효과': {\n",
    "        '수분': [],\n",
    "        '진정': [],\n",
    "        '미백': [],\n",
    "        '탄력': []\n",
    "    },\n",
    "    '제형': {\n",
    "        '가벼운 제형': [],\n",
    "        '무거운 제형': []\n",
    "    },\n",
    "    '기타': []  # 기타 카테고리 추가\n",
    "}\n",
    "\n",
    "\n",
    "# 분류 코드\n",
    "for feature in features:\n",
    "    categorized = False  # 해당 feature가 분류되었는지 여부 체크\n",
    "    \n",
    "    # 기능 카테고리 분류\n",
    "    for subcategory, keywords in categories['기능/효과'].items():\n",
    "        if feature in keywords:\n",
    "            categorized_features['기능/효과'][subcategory].append(feature)\n",
    "            categorized = True\n",
    "            break\n",
    "\n",
    "    # 제형 카테고리 분류\n",
    "    if not categorized:  # 기능으로 분류되지 않은 경우에만 제형에서 검사\n",
    "        for subcategory, keywords in categories['제형'].items():\n",
    "            if feature in keywords:\n",
    "                categorized_features['제형'][subcategory].append(feature)\n",
    "                categorized = True\n",
    "                break\n",
    "    \n",
    "    # '기타' 카테고리에 추가\n",
    "    if not categorized:\n",
    "        categorized_features['기타'].append(feature)\n",
    "\n",
    "# 결과 출력\n",
    "print(categorized_features)"
   ]
  },
  {
   "cell_type": "code",
   "execution_count": 119,
   "id": "569344ed",
   "metadata": {},
   "outputs": [
    {
     "data": {
      "text/html": [
       "<div>\n",
       "<style scoped>\n",
       "    .dataframe tbody tr th:only-of-type {\n",
       "        vertical-align: middle;\n",
       "    }\n",
       "\n",
       "    .dataframe tbody tr th {\n",
       "        vertical-align: top;\n",
       "    }\n",
       "\n",
       "    .dataframe thead th {\n",
       "        text-align: right;\n",
       "    }\n",
       "</style>\n",
       "<table border=\"1\" class=\"dataframe\">\n",
       "  <thead>\n",
       "    <tr style=\"text-align: right;\">\n",
       "      <th></th>\n",
       "      <th>product_name</th>\n",
       "      <th>function</th>\n",
       "      <th>formulation</th>\n",
       "    </tr>\n",
       "  </thead>\n",
       "  <tbody>\n",
       "    <tr>\n",
       "      <th>0</th>\n",
       "      <td>바이오더마</td>\n",
       "      <td>[진정]</td>\n",
       "      <td>[가벼운 제형]</td>\n",
       "    </tr>\n",
       "  </tbody>\n",
       "</table>\n",
       "</div>"
      ],
      "text/plain": [
       "  product_name function formulation\n",
       "0        바이오더마     [진정]    [가벼운 제형]"
      ]
     },
     "execution_count": 119,
     "metadata": {},
     "output_type": "execute_result"
    }
   ],
   "source": [
    "# df 형태로 받아오기\n",
    "\n",
    "import pandas as pd\n",
    "\n",
    "# 원본 리스트\n",
    "# features = [\n",
    "#     '수분있는', '보습잘되는', '자극없는', '흡수잘되는', '속건조에효과있는', '향에만족한',\n",
    "#     '가벼운', '알러지반응오는', '흘러내리는', '인공향나는', '가려운', '냄새가독한',\n",
    "#     '미끌거리는', '잘굳는'\n",
    "# ]\n",
    "\n",
    "# 카테고리 기준\n",
    "categories = {\n",
    "    '기능/효과': {\n",
    "        '수분': ['흡수잘되는', '끈적하지않은', '속건조에효과있는', '보습잘되는', '수분있는'],\n",
    "        '진정': ['트러블안생기는', '진정되는', '트러블없어지는', '자극없는', '가렵지않은', '뒤집어지지않는', '쿨링되는'],\n",
    "        '미백': ['피부톤이개선되는', '각질제거잘되는'],\n",
    "        '탄력': ['피부결좋아지는', '모공관리되는', '피부강화되는']\n",
    "    },\n",
    "    '제형': {\n",
    "        '가벼운 제형': ['가벼운', '산뜻한', '끈적하지않은', '흡수잘되는'],\n",
    "        '무거운 제형': ['쫀득한', '잘발리는', '리치한']\n",
    "    }\n",
    "}\n",
    "\n",
    "# 분류 결과 저장용 사전\n",
    "categorized_features = {\n",
    "    '기능/효과': {\n",
    "        '수분': [],\n",
    "        '진정': [],\n",
    "        '미백': [],\n",
    "        '탄력': []\n",
    "    },\n",
    "    '제형': {\n",
    "        '가벼운 제형': [],\n",
    "        '무거운 제형': []\n",
    "    }\n",
    "}\n",
    "\n",
    "# 분류 코드\n",
    "for feature in features:\n",
    "    categorized = False  # 해당 feature가 분류되었는지 여부 체크\n",
    "    \n",
    "    # 기능 카테고리 분류\n",
    "    for subcategory, keywords in categories['기능/효과'].items():\n",
    "        if feature in keywords:\n",
    "            categorized_features['기능/효과'][subcategory].append(feature)\n",
    "            categorized = True\n",
    "            break\n",
    "\n",
    "    # 제형 카테고리 분류\n",
    "    if not categorized:  # 기능으로 분류되지 않은 경우에만 제형에서 검사\n",
    "        for subcategory, keywords in categories['제형'].items():\n",
    "            if feature in keywords:\n",
    "                categorized_features['제형'][subcategory].append(feature)\n",
    "                categorized = True\n",
    "                break\n",
    "\n",
    "# 기능/효과 및 제형 리스트 생성\n",
    "function_list = [cat for cat, items in categorized_features['기능/효과'].items() if items]\n",
    "formulation_list = [cat for cat, items in categorized_features['제형'].items() if items]\n",
    "\n",
    "# DataFrame 생성\n",
    "data = {\n",
    "    'product_name': ['바이오더마'],\n",
    "    'function': [function_list],\n",
    "    'formulation': [formulation_list]\n",
    "}\n",
    "df = pd.DataFrame(data)\n",
    "\n",
    "# 결과 출력\n",
    "df"
   ]
  },
  {
   "cell_type": "markdown",
   "id": "97126a43e35fea05",
   "metadata": {},
   "source": [
    "# 2. py 파일로 구현"
   ]
  },
  {
   "cell_type": "code",
   "execution_count": 108,
   "id": "c4a2b9f6223e51d7",
   "metadata": {},
   "outputs": [],
   "source": [
    "from bs4 import BeautifulSoup\n",
    "import requests\n",
    "import re\n",
    "\n",
    "# 1. DB에서 제품명 가져오기\n",
    "def preprocessing_product_name(text):\n",
    "    patterns = [\n",
    "        r'\\[.*?\\]|\\(.*?\\)|\\d+ml.*'\n",
    "\n",
    "    ]\n",
    "\n",
    "    for pattern in patterns:\n",
    "        text = re.sub(pattern, \"\", text)\n",
    "\n",
    "    processed_text = re.sub(r'\\s+', ' ', text).strip()\n",
    "    return processed_text\n",
    "\n",
    "# 2. 화해에서 제품명 검색하기\n",
    "def get_product_href_tag(processed_text):\n",
    "   source_url=f'https://www.hwahae.co.kr/search?q={processed_text}'\n",
    "   response = requests.get(source_url)\n",
    "   soup = BeautifulSoup(response.text, 'html.parser')\n",
    "\n",
    "   a_tag=soup.select('#__next > main > section > section > div.px-20 > ul > li:nth-child(1) > div > a')\n",
    "   href=a_tag[0]['href']\n",
    "   # print(href) -> ex.) products/4900\n",
    "   return href\n",
    "\n",
    "# 3. 해당 제품의 AI 리뷰 데이터 추출하기\n",
    "def get_product_ai_review(href):\n",
    "   s = requests.Session()\n",
    "   s.headers.update(\n",
    "        {\n",
    "            \"User-Agent\": \"Mozilla/5.0 (Windows NT 10.0; Win64; x64) AppleWebKit/537.36 (KHTML, like Gecko) Chrome/130.0.0.0 Safari/537.36\",\n",
    "            \"Cookie\": \"_ga_3V19ZGJ84W=GS1.1.1731286911.1.0.1731286911.0.0.0; _ga=GA1.1.1456301248.1731286912; _tt_enable_cookie=1; _ttp=J_Y3wZSgjwteQLHGjuCc8fENzKT; _fbp=fb.2.1731286926465.175496475186567195; aws-waf-token=5808b6ac-e973-45a5-b954-aa7fb0ec561e:AQoAhXQjLjqzAAAA:YV2/E4qkeGZhD2EZQlq5fsBhU3ZNyWVYfHw6tyh2h6DB3SAuTom2b/E4Re9zRYL7wPd9El9bg/pF+p9bDgp8HbPdKVaLBo4qBecA/eNYiQIOXkkxuNjKv4A1d4lJfLB6MtARVfnVuqTv3i7rZca8/Xyz18oETRzJiqTvTE8PuIYhZAlSu0DqeR/9kBsoGlc2Fv1g; _ga_36NCBJ5CBH=GS1.1.1731301644.4.1.1731302309.59.0.1961747604; CHECK_IS_REPRESENT_GOODS_42788=true\",\n",
    "        }\n",
    "    )\n",
    "\n",
    "   product_url=f\"https://www.hwahae.co.kr/{href}\"\n",
    "   response2=s.get(product_url)\n",
    "   soup2=BeautifulSoup(response2.text, 'html.parser')\n",
    "\n",
    "   tags=soup2.select('div.grow ul li')\n",
    "\n",
    "   features = []\n",
    "   for tag in tags:\n",
    "        text_only = re.sub(r'\\d+', '', tag.text)\n",
    "        features.append(text_only.strip())\n",
    "\n",
    "   return features\n"
   ]
  },
  {
   "cell_type": "code",
   "execution_count": 109,
   "id": "882e6489",
   "metadata": {},
   "outputs": [
    {
     "name": "stdout",
     "output_type": "stream",
     "text": [
      "[]\n"
     ]
    }
   ],
   "source": [
    "product_name = '[11월 올영픽/토너 250ml증정]바이오더마 하이드라비오 토너 500ml 기획(+토너 250ml 증정)'\n",
    "text = preprocessing_product_name(product_name)\n",
    "href = get_product_href_tag(text)\n",
    "features_test = get_product_ai_review(href)\n",
    "print(features_test)"
   ]
  },
  {
   "cell_type": "code",
   "execution_count": 136,
   "id": "dfa8c1c0",
   "metadata": {},
   "outputs": [
    {
     "name": "stdout",
     "output_type": "stream",
     "text": [
      "https://www.hwahae.co.kr/products/4900\n",
      "<Response [200]>\n",
      "https://www.hwahae.co.kr/goods/61961?goods_tab=review_ingredients\n",
      "<Response [200]>\n",
      "https://www.hwahae.co.kr/goods/48283?goods_tab=review_ingredients\n",
      "<Response [200]>\n",
      "https://www.hwahae.co.kr/products/2115786\n",
      "<Response [200]>\n",
      "https://www.hwahae.co.kr/goods/48436?goods_tab=review_ingredients\n",
      "<Response [200]>\n",
      "https://www.hwahae.co.kr/goods/61961?goods_tab=review_ingredients\n",
      "<Response [200]>\n",
      "https://www.hwahae.co.kr/goods/56188?goods_tab=review_ingredients\n",
      "<Response [200]>\n",
      "https://www.hwahae.co.kr/goods/57154?goods_tab=review_ingredients\n",
      "<Response [200]>\n",
      "https://www.hwahae.co.kr/goods/26143?goods_tab=review_ingredients\n",
      "<Response [200]>\n",
      "https://www.hwahae.co.kr/goods/12318?goods_tab=review_ingredients\n",
      "<Response [200]>\n",
      "https://www.hwahae.co.kr/goods/47881?goods_tab=review_ingredients\n",
      "<Response [200]>\n",
      "https://www.hwahae.co.kr/products/2044266\n",
      "<Response [200]>\n",
      "https://www.hwahae.co.kr/goods/35549?goods_tab=review_ingredients\n",
      "<Response [200]>\n",
      "https://www.hwahae.co.kr/goods/6128?goods_tab=review_ingredients\n",
      "<Response [200]>\n",
      "https://www.hwahae.co.kr/goods/48436?goods_tab=review_ingredients\n",
      "<Response [200]>\n",
      "https://www.hwahae.co.kr/goods/48679?goods_tab=review_ingredients\n",
      "<Response [200]>\n",
      "https://www.hwahae.co.kr/products/1751013\n",
      "<Response [200]>\n",
      "https://www.hwahae.co.kr/goods/5820?goods_tab=review_ingredients\n",
      "<Response [200]>\n",
      "https://www.hwahae.co.kr/products/1720056\n",
      "<Response [200]>\n",
      "https://www.hwahae.co.kr/goods/61609?goods_tab=review_ingredients\n",
      "<Response [200]>\n",
      "Results saved to 스킨토너_결과_1.csv\n",
      "https://www.hwahae.co.kr/products/2044266\n",
      "<Response [200]>\n",
      "https://www.hwahae.co.kr/goods/66717?goods_tab=review_ingredients\n",
      "<Response [200]>\n"
     ]
    },
    {
     "ename": "AttributeError",
     "evalue": "'NoneType' object has no attribute 'select'",
     "output_type": "error",
     "traceback": [
      "\u001b[1;31m---------------------------------------------------------------------------\u001b[0m",
      "\u001b[1;31mAttributeError\u001b[0m                            Traceback (most recent call last)",
      "Cell \u001b[1;32mIn[136], line 137\u001b[0m\n\u001b[0;32m    135\u001b[0m input_csv \u001b[38;5;241m=\u001b[39m \u001b[38;5;124m'\u001b[39m\u001b[38;5;124munique_products.csv\u001b[39m\u001b[38;5;124m'\u001b[39m\n\u001b[0;32m    136\u001b[0m output_prefix \u001b[38;5;241m=\u001b[39m \u001b[38;5;124m'\u001b[39m\u001b[38;5;124m스킨토너_결과\u001b[39m\u001b[38;5;124m'\u001b[39m\n\u001b[1;32m--> 137\u001b[0m \u001b[43mprocess_products_from_csv\u001b[49m\u001b[43m(\u001b[49m\u001b[43minput_csv\u001b[49m\u001b[43m,\u001b[49m\u001b[43m \u001b[49m\u001b[43moutput_prefix\u001b[49m\u001b[43m)\u001b[49m\n",
      "Cell \u001b[1;32mIn[136], line 117\u001b[0m, in \u001b[0;36mprocess_products_from_csv\u001b[1;34m(input_csv, output_prefix, chunk_size)\u001b[0m\n\u001b[0;32m    115\u001b[0m href \u001b[38;5;241m=\u001b[39m get_product_href_tag(processed_name)\n\u001b[0;32m    116\u001b[0m \u001b[38;5;28;01mif\u001b[39;00m href:\n\u001b[1;32m--> 117\u001b[0m     features \u001b[38;5;241m=\u001b[39m \u001b[43mget_product_ai_review\u001b[49m\u001b[43m(\u001b[49m\u001b[43mhref\u001b[49m\u001b[43m)\u001b[49m\n\u001b[0;32m    118\u001b[0m     function_list, formulation_list \u001b[38;5;241m=\u001b[39m categorize_features(features)\n\u001b[0;32m    119\u001b[0m     result_data\u001b[38;5;241m.\u001b[39mappend({\n\u001b[0;32m    120\u001b[0m         \u001b[38;5;124m'\u001b[39m\u001b[38;5;124mproduct_name\u001b[39m\u001b[38;5;124m'\u001b[39m: processed_name,\n\u001b[0;32m    121\u001b[0m         \u001b[38;5;124m'\u001b[39m\u001b[38;5;124mfunction\u001b[39m\u001b[38;5;124m'\u001b[39m: function_list,\n\u001b[0;32m    122\u001b[0m         \u001b[38;5;124m'\u001b[39m\u001b[38;5;124mformulation\u001b[39m\u001b[38;5;124m'\u001b[39m: formulation_list\n\u001b[0;32m    123\u001b[0m     })\n",
      "Cell \u001b[1;32mIn[136], line 46\u001b[0m, in \u001b[0;36mget_product_ai_review\u001b[1;34m(href)\u001b[0m\n\u001b[0;32m     43\u001b[0m soup2\u001b[38;5;241m=\u001b[39mBeautifulSoup(response2\u001b[38;5;241m.\u001b[39mtext, \u001b[38;5;124m'\u001b[39m\u001b[38;5;124mhtml.parser\u001b[39m\u001b[38;5;124m'\u001b[39m)\n\u001b[0;32m     45\u001b[0m good_review_tag\u001b[38;5;241m=\u001b[39msoup2\u001b[38;5;241m.\u001b[39mselect_one(\u001b[38;5;124m'\u001b[39m\u001b[38;5;124mdiv.grow\u001b[39m\u001b[38;5;124m'\u001b[39m)\n\u001b[1;32m---> 46\u001b[0m feature_tags \u001b[38;5;241m=\u001b[39m \u001b[43mgood_review_tag\u001b[49m\u001b[38;5;241;43m.\u001b[39;49m\u001b[43mselect\u001b[49m(\u001b[38;5;124m'\u001b[39m\u001b[38;5;124mul li\u001b[39m\u001b[38;5;124m'\u001b[39m)\n\u001b[0;32m     48\u001b[0m features \u001b[38;5;241m=\u001b[39m []\n\u001b[0;32m     49\u001b[0m \u001b[38;5;28;01mfor\u001b[39;00m tag \u001b[38;5;129;01min\u001b[39;00m feature_tags:\n",
      "\u001b[1;31mAttributeError\u001b[0m: 'NoneType' object has no attribute 'select'"
     ]
    }
   ],
   "source": [
    "from bs4 import BeautifulSoup\n",
    "import requests\n",
    "import re\n",
    "import pandas as pd\n",
    "\n",
    "# 1. DB에서 제품명 가져오기\n",
    "def preprocessing_product_name(text):\n",
    "    patterns = [\n",
    "        r'\\[.*?\\]|\\(.*?\\)|\\d+ml.*'\n",
    "\n",
    "    ]\n",
    "\n",
    "    for pattern in patterns:\n",
    "        text = re.sub(pattern, \"\", text)\n",
    "\n",
    "    processed_text = re.sub(r'\\s+', ' ', text).strip()\n",
    "    return processed_text\n",
    "\n",
    "# 2. 화해에서 제품명 검색하기\n",
    "def get_product_href_tag(processed_text):\n",
    "   source_url=f'https://www.hwahae.co.kr/search?q={processed_text}'\n",
    "   response = requests.get(source_url)\n",
    "   soup = BeautifulSoup(response.text, 'html.parser')\n",
    "\n",
    "   a_tag=soup.select('#__next > main > section > section > div.px-20 > ul > li:nth-child(1) > div > a')\n",
    "   href=a_tag[0]['href']\n",
    "   return href\n",
    "\n",
    "# 3. 해당 제품의 AI 리뷰 데이터 추출하기\n",
    "def get_product_ai_review(href):\n",
    "   s = requests.Session()\n",
    "   s.headers.update(\n",
    "        {\n",
    "            \"User-Agent\": \"Mozilla/5.0 (Windows NT 10.0; Win64; x64) AppleWebKit/537.36 (KHTML, like Gecko) Chrome/130.0.0.0 Safari/537.36\",\n",
    "            \"Cookie\": \"_ga_3V19ZGJ84W=GS1.1.1731286911.1.0.1731286911.0.0.0; _ga=GA1.1.1456301248.1731286912; _tt_enable_cookie=1; _ttp=J_Y3wZSgjwteQLHGjuCc8fENzKT; _fbp=fb.2.1731286926465.175496475186567195; COOKIE_HIDE_GO_TO_APP_BOTTOM_SHEET=true; aws-waf-token=5808b6ac-e973-45a5-b954-aa7fb0ec561e:AQoAnC8zOB89AQAA:PAThP7dXUAkqH3D+BccMc4yEIuMx9jTxunsZWshwdUiJgOstFzXpPjEipIyLpRSh6tmXuC4Ily9YjjwxikgYLxk/L/mgGutxUQO6Qmrci/+sBQO2GBLC2q6e7XCW37TyyWLdFtJd667GhwcQu7cvK41YF/rJXWuNNMD3M6P2Vrl0b8im0GoshJ2UXfUD6nXhLJfU; _ga_36NCBJ5CBH=GS1.1.1731306072.5.1.1731310770.60.0.1372893092\",\n",
    "        }\n",
    "    )\n",
    "\n",
    "   product_url=f\"https://www.hwahae.co.kr/{href}\"\n",
    "   print(product_url)\n",
    "   response2=s.get(product_url)\n",
    "   print(response2)\n",
    "   soup2=BeautifulSoup(response2.text, 'html.parser')\n",
    "\n",
    "   good_review_tag=soup2.select_one('div.grow')\n",
    "   feature_tags = good_review_tag.select('ul li')\n",
    "\n",
    "   features = []\n",
    "   for tag in feature_tags:\n",
    "        text_only = re.sub(r'\\d+', '', tag.text)\n",
    "        features.append(text_only.strip())\n",
    "\n",
    "   return features\n",
    "\n",
    "# 4. 제품에 대한 features를 카테고리화\n",
    "def categorize_features(features):\n",
    "    # 카테고리 기준\n",
    "    categories = {\n",
    "        '기능/효과': {\n",
    "            '수분': ['흡수잘되는', '끈적하지않은', '속건조에효과있는', '보습잘되는', '수분있는'],\n",
    "            '진정': ['트러블안생기는', '진정되는', '트러블없어지는', '자극없는', '가렵지않은', '뒤집어지지않는', '쿨링되는'],\n",
    "            '미백': ['피부톤이개선되는', '각질제거잘되는'],\n",
    "            '탄력': ['피부결좋아지는', '모공관리되는', '피부강화되는']\n",
    "        },\n",
    "        '제형': {\n",
    "            '가벼운 제형': ['가벼운', '산뜻한', '끈적하지않은', '흡수잘되는'],\n",
    "            '무거운 제형': ['쫀득한', '잘발리는', '리치한']\n",
    "        }\n",
    "    }\n",
    "\n",
    "    # 분류 결과 저장용 사전\n",
    "    categorized_features = {\n",
    "        '기능/효과': {subcategory: [] for subcategory in categories['기능/효과']},\n",
    "        '제형': {subcategory: [] for subcategory in categories['제형']}\n",
    "    }\n",
    "\n",
    "    # 분류 코드\n",
    "    for feature in features:\n",
    "        categorized = False  # 해당 feature가 분류되었는지 여부 체크\n",
    "        \n",
    "        # 기능 카테고리 분류\n",
    "        for subcategory, keywords in categories['기능/효과'].items():\n",
    "            if feature in keywords:\n",
    "                categorized_features['기능/효과'][subcategory].append(feature)\n",
    "                categorized = True\n",
    "                break\n",
    "\n",
    "        # 제형 카테고리 분류\n",
    "        if not categorized:  # 기능으로 분류되지 않은 경우에만 제형에서 검사\n",
    "            for subcategory, keywords in categories['제형'].items():\n",
    "                if feature in keywords:\n",
    "                    categorized_features['제형'][subcategory].append(feature)\n",
    "                    categorized = True\n",
    "                    break\n",
    "\n",
    "    # 기능/효과 및 제형 리스트 생성\n",
    "    function_list = [cat for cat, items in categorized_features['기능/효과'].items() if items]\n",
    "    formulation_list = [cat for cat, items in categorized_features['제형'].items() if items]\n",
    "\n",
    "    return function_list, formulation_list\n",
    "\n",
    "# 5. Processing the CSV file in chunks and saving results\n",
    "def process_products_from_csv(input_csv, output_prefix, chunk_size=20):\n",
    "    products_df = pd.read_csv(input_csv)\n",
    "    num_chunks = (len(products_df) // chunk_size) + (1 if len(products_df) % chunk_size else 0)\n",
    "\n",
    "    for i in range(num_chunks):\n",
    "        chunk_df = products_df.iloc[i * chunk_size: (i + 1) * chunk_size]\n",
    "        result_data = []\n",
    "\n",
    "        for _, row in chunk_df.iterrows():\n",
    "            product_name = row['product_name']\n",
    "            processed_name = preprocessing_product_name(product_name)\n",
    "\n",
    "            href = get_product_href_tag(processed_name)\n",
    "            if href:\n",
    "                features = get_product_ai_review(href)\n",
    "                function_list, formulation_list = categorize_features(features)\n",
    "                result_data.append({\n",
    "                    'product_name': processed_name,\n",
    "                    'function': function_list,\n",
    "                    'formulation': formulation_list\n",
    "                })\n",
    "            else:\n",
    "                print(f\"Product {processed_name} not found on 화해.\")\n",
    "\n",
    "        # Save each chunk result to a separate CSV file\n",
    "        output_csv = f\"{output_prefix}_{i + 1}.csv\"\n",
    "        result_df = pd.DataFrame(result_data)\n",
    "        result_df.to_csv(output_csv, index=False)\n",
    "        print(f\"Results saved to {output_csv}\")\n",
    "\n",
    "# Execute the process\n",
    "if __name__ == \"__main__\":\n",
    "    input_csv = 'unique_products.csv'\n",
    "    output_prefix = '스킨토너_결과'\n",
    "    process_products_from_csv(input_csv, output_prefix)\n"
   ]
  },
  {
   "cell_type": "code",
   "execution_count": 126,
   "id": "b994bcbd",
   "metadata": {},
   "outputs": [
    {
     "data": {
      "text/html": [
       "<div>\n",
       "<style scoped>\n",
       "    .dataframe tbody tr th:only-of-type {\n",
       "        vertical-align: middle;\n",
       "    }\n",
       "\n",
       "    .dataframe tbody tr th {\n",
       "        vertical-align: top;\n",
       "    }\n",
       "\n",
       "    .dataframe thead th {\n",
       "        text-align: right;\n",
       "    }\n",
       "</style>\n",
       "<table border=\"1\" class=\"dataframe\">\n",
       "  <thead>\n",
       "    <tr style=\"text-align: right;\">\n",
       "      <th></th>\n",
       "      <th>product_name</th>\n",
       "      <th>function</th>\n",
       "      <th>formulation</th>\n",
       "    </tr>\n",
       "  </thead>\n",
       "  <tbody>\n",
       "    <tr>\n",
       "      <th>0</th>\n",
       "      <td>피지오겔 DMT 페이셜 로션</td>\n",
       "      <td>[진정]</td>\n",
       "      <td>[가벼운 제형]</td>\n",
       "    </tr>\n",
       "  </tbody>\n",
       "</table>\n",
       "</div>"
      ],
      "text/plain": [
       "      product_name function formulation\n",
       "0  피지오겔 DMT 페이셜 로션     [진정]    [가벼운 제형]"
      ]
     },
     "execution_count": 126,
     "metadata": {},
     "output_type": "execute_result"
    }
   ],
   "source": [
    "df"
   ]
  },
  {
   "cell_type": "code",
   "execution_count": null,
   "id": "7f24486e",
   "metadata": {},
   "outputs": [],
   "source": [
    "\n",
    "\n",
    "# 사용법 예시\n",
    "# python hwahwe_crawl.py [변우석pick] 피지오겔 DMT 페이셜 로션 200ml+50ml+포토스티커 한정기획"
   ]
  },
  {
   "cell_type": "code",
   "execution_count": 130,
   "id": "491ec342",
   "metadata": {},
   "outputs": [],
   "source": [
    "import pandas as pd\n",
    "\n",
    "# CSV 파일을 DataFrame으로 불러오기\n",
    "df = pd.read_csv('스킨토너.csv')\n",
    "\n",
    "# product_name 값이 같은 경우 첫 번째 행만 남기고 중복 제거\n",
    "df_unique = df.drop_duplicates(subset='product_name', keep='first')\n",
    "\n",
    "# 결과를 새로운 CSV 파일로 저장하기 (필요에 따라 경로와 파일 이름 변경)\n",
    "df_unique.to_csv('unique_products.csv', index=False)"
   ]
  },
  {
   "cell_type": "code",
   "execution_count": null,
   "id": "fb02c2d5",
   "metadata": {},
   "outputs": [],
   "source": []
  }
 ],
 "metadata": {
  "kernelspec": {
   "display_name": "web",
   "language": "python",
   "name": "python3"
  },
  "language_info": {
   "codemirror_mode": {
    "name": "ipython",
    "version": 3
   },
   "file_extension": ".py",
   "mimetype": "text/x-python",
   "name": "python",
   "nbconvert_exporter": "python",
   "pygments_lexer": "ipython3",
   "version": "3.10.14"
  }
 },
 "nbformat": 4,
 "nbformat_minor": 5
}
